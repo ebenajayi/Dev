{
  "nbformat": 4,
  "nbformat_minor": 0,
  "metadata": {
    "kernelspec": {
      "display_name": "Python 3",
      "language": "python",
      "name": "python3"
    },
    "language_info": {
      "codemirror_mode": {
        "name": "ipython",
        "version": 3
      },
      "file_extension": ".py",
      "mimetype": "text/x-python",
      "name": "python",
      "nbconvert_exporter": "python",
      "pygments_lexer": "ipython3",
      "version": "3.8.5"
    },
    "colab": {
      "name": "Project-2.ipynb",
      "provenance": [],
      "include_colab_link": true
    }
  },
  "cells": [
    {
      "cell_type": "markdown",
      "metadata": {
        "id": "view-in-github",
        "colab_type": "text"
      },
      "source": [
        "<a href=\"https://colab.research.google.com/github/ebenajayi/Reddit-Comment-Classification/blob/main/Project_2.ipynb\" target=\"_parent\"><img src=\"https://colab.research.google.com/assets/colab-badge.svg\" alt=\"Open In Colab\"/></a>"
      ]
    },
    {
      "cell_type": "code",
      "metadata": {
        "id": "3_j1e8G8znLA",
        "outputId": "e64bb47e-b1bc-4b1c-b06a-31ca745ae6fd"
      },
      "source": [
        "import numpy as np\n",
        "import pandas as pd\n",
        "import time\n",
        "import re \n",
        "\n",
        "'''Features'''\n",
        "from sklearn import preprocessing\n",
        "from sklearn.preprocessing import LabelEncoder\n",
        "from sklearn.feature_extraction.text import TfidfVectorizer, CountVectorizer\n",
        "from sklearn.decomposition import TruncatedSVD\n",
        "from sklearn.preprocessing import label_binarize\n",
        "from sklearn.pipeline import Pipeline\n",
        "from sklearn.pipeline import make_pipeline\n",
        "from sklearn.feature_selection import chi2, SelectKBest\n",
        "\n",
        "'''Classifiers'''\n",
        "from sklearn.linear_model import LogisticRegression\n",
        "from sklearn.linear_model import SGDClassifier\n",
        "from sklearn.naive_bayes import MultinomialNB\n",
        "from sklearn.svm import LinearSVC\n",
        "\n",
        "'''Metrics/Evaluation'''\n",
        "from sklearn.model_selection import train_test_split, cross_val_score, GridSearchCV\n",
        "from sklearn.metrics import accuracy_score, precision_score, recall_score, f1_score, roc_curve, auc, roc_auc_score\n",
        "from scipy import interp\n",
        "from itertools import cycle\n",
        "\n",
        "'''Plotting'''\n",
        "import matplotlib.pyplot as plt\n",
        "import seaborn as sns\n",
        "sns.set_style('darkgrid')\n",
        "\n",
        "'''Display'''\n",
        "from IPython.core.display import display, HTML\n",
        "display(HTML(\"<style>.container { width:95% !important; }</style>\"))\n",
        "import warnings\n",
        "warnings.filterwarnings('ignore')\n",
        "pd.options.display.float_format = '{:,.2f}'.format\n",
        "\n",
        "'''Classifiers'''\n",
        "from sklearn.feature_extraction.text import CountVectorizer  \n",
        "from sklearn.feature_extraction.text import TfidfTransformer  \n",
        "from sklearn.model_selection import train_test_split \n",
        "from sklearn.model_selection import GridSearchCV\n",
        "\n",
        "'''Lemmatizer'''\n",
        "from nltk.stem import WordNetLemmatizer\n",
        "lemmatizer = WordNetLemmatizer()\n",
        "\n",
        "'''Stemmer'''\n",
        "from nltk.stem.snowball import SnowballStemmer\n",
        "#from nltk.stem import PorterStemmer\n",
        "\n",
        "'''Progress  Bar'''\n",
        "from tqdm import tqdm\n",
        "tqdm.pandas(desc=\"progress-bar\")\n",
        "\n",
        "'''Stopwords Corpus'''\n",
        "import nltk\n",
        "nltk.download(\"stopwords\")\n",
        "from nltk.corpus import stopwords, wordnet\n",
        "stop_words = set(stopwords.words('english'))\n",
        "\n",
        "\n",
        "import nlpaug.augmenter.char as nac\n",
        "import nlpaug.augmenter.word as naw\n",
        "import nlpaug.augmenter.sentence as nas\n",
        "import nlpaug.flow as nafc\n",
        "\n",
        "from nlpaug.util import Action\n",
        "\n",
        "np.random.seed(1)"
      ],
      "execution_count": null,
      "outputs": [
        {
          "output_type": "display_data",
          "data": {
            "text/html": [
              "<style>.container { width:95% !important; }</style>"
            ],
            "text/plain": [
              "<IPython.core.display.HTML object>"
            ]
          },
          "metadata": {
            "tags": []
          }
        },
        {
          "output_type": "stream",
          "text": [
            "[nltk_data] Downloading package stopwords to /home/hamza/nltk_data...\n",
            "[nltk_data]   Package stopwords is already up-to-date!\n"
          ],
          "name": "stderr"
        }
      ]
    },
    {
      "cell_type": "markdown",
      "metadata": {
        "id": "Nt-je8RhznLI"
      },
      "source": [
        "# Data Import"
      ]
    },
    {
      "cell_type": "code",
      "metadata": {
        "id": "WCDGmzQHznLJ"
      },
      "source": [
        "df = pd.read_csv(\"train.csv\")\n",
        "test = pd.read_csv(\"test.csv\")"
      ],
      "execution_count": null,
      "outputs": []
    },
    {
      "cell_type": "code",
      "metadata": {
        "id": "guqe2YEbznLO",
        "outputId": "5f371722-3f78-47b4-af7f-f3a18d7a7e03"
      },
      "source": [
        "from collections import Counter\n",
        "\n",
        "X_datatrain = df['body']\n",
        "y_datatrain = df['subreddit']\n",
        "X_datatest = test['body']\n",
        "print(y_datatrain.unique())"
      ],
      "execution_count": null,
      "outputs": [
        {
          "output_type": "stream",
          "text": [
            "['rpg' 'anime' 'datascience' 'hardware' 'cars' 'gamernews' 'gamedev'\n",
            " 'computers']\n"
          ],
          "name": "stdout"
        }
      ]
    },
    {
      "cell_type": "markdown",
      "metadata": {
        "id": "IB0BuHCdznLT"
      },
      "source": [
        "# Preprocessing"
      ]
    },
    {
      "cell_type": "markdown",
      "metadata": {
        "id": "dbdMZuNQznLU"
      },
      "source": [
        "## Drop Duplicates"
      ]
    },
    {
      "cell_type": "code",
      "metadata": {
        "id": "2w1znDkLznLV"
      },
      "source": [
        "df=df.drop_duplicates(keep='first',subset='body')"
      ],
      "execution_count": null,
      "outputs": []
    },
    {
      "cell_type": "markdown",
      "metadata": {
        "id": "BuZJ3PYmznLb"
      },
      "source": [
        "## Filter Functions"
      ]
    },
    {
      "cell_type": "code",
      "metadata": {
        "id": "kUeovnE_znLc"
      },
      "source": [
        "# Function to remove noise from text and deal with negation\n",
        "def cleaning_data(comment):\n",
        "    \n",
        "    #Remove Non-ASCII characters\n",
        "    comment = re.sub(r\"\\xa0\",r\" \",comment)\n",
        "    comment = comment.encode(\"ascii\", errors=\"ignore\").decode()\n",
        "    \n",
        "    #comment = re.sub(r'^https?:\\/\\/.*[\\r\\n]*', '', comment, flags=re.MULTILINE)\n",
        "    \n",
        "    #Lower case the data\n",
        "    comment = comment.lower()\n",
        "    \n",
        "    #Remove HTML Links\n",
        "    #comment = re.sub(r'\\w+:\\/{2}[\\d\\w-]+(\\.[\\d\\w-]+)*(?:(?:\\/[^\\s/]*))*', ' ', comment)   \n",
        "    #comment = re.sub(r'\\n','',comment)\n",
        "    \n",
        "    #Cleaning the data by removing special characters\n",
        "    comment = re.sub(r\"[^A-Za-z0-9!?\\'\\`]\", \" \", comment)\n",
        "    \n",
        "    #Handling negations\n",
        "    comment = re.sub(r\"youtu.be\", \" youtube\", comment)\n",
        "    comment = re.sub(r\"https\", \" http\", comment)\n",
        "    comment = re.sub(r\"i'm\", \" i am\", comment)\n",
        "    #comment = re.sub(r\"it's\", \" it is\", comment)\n",
        "    #comment = re.sub(r\"ain't\", \"is not\",comment)\n",
        "    #comment = re.sub(r\"aren't\", \"are not\",comment)\n",
        "    #comment = re.sub(r\"couldn't\", \"could not\",comment)\n",
        "    #comment = re.sub(r\"didnt\", \"did not\",comment)\n",
        "    #comment = re.sub(r\"dont\", \"do not\",comment)\n",
        "    #comment = re.sub(r\"doesn't\", \"does not\",comment)\n",
        "    #comment = re.sub(r\"hadn't\", \"had not\",comment)\n",
        "    #comment = re.sub(r\"hasn't\", \"has not\",comment)\n",
        "    #comment = re.sub(r\"haven't\", \"have not\",comment)\n",
        "    #comment = re.sub(r\"isn't\", \"is not\",comment)\n",
        "    #comment = re.sub(r\"shouldn't\", \"should not\",comment)\n",
        "    #comment = re.sub(r\"shan't\", \"shall not\",comment)\n",
        "    #comment = re.sub(r\"wasn't\", \"was not\",comment)\n",
        "    #comment = re.sub(r\"weren't\", \"were not\",comment)\n",
        "    #comment = re.sub(r\"oughtn't\", \"ought not\",comment)\n",
        "    #comment = re.sub(r\"that's\", \" that is\", comment)\n",
        "    comment = re.sub(r\"\\'s\", \" \", comment)\n",
        "     #comment = re.sub(r\"\\'ve\", \" have\", comment)\n",
        "    #comment = re.sub(r\"won't\", \" will not\", comment)\n",
        "    #comment = re.sub(r\"wouldn't\", \" would not\", comment)\n",
        "    #comment = re.sub(r\"don't\", \" do not\", comment)\n",
        "    #comment = re.sub(r\"can't\", \" can not\", comment)\n",
        "    #comment = re.sub(r\"cannot\", \" can not\", comment)\n",
        "    #comment = re.sub(r\"n\\'t\", \" n\\'t\", comment)\n",
        "    #comment = re.sub(r\"\\'re\", \" are\", comment)\n",
        "    #comment = re.sub(r\"\\'d\", \" would\", comment)\n",
        "    #comment = re.sub(r\"\\'ll\", \" will\", comment)    \n",
        "    comment = re.sub(r\"!\", \" ! \", comment)\n",
        "    comment = re.sub(r\"\\?\", \" ? \", comment)\n",
        "    comment = re.sub(r\"\\s{2,}\", \" \", comment)\n",
        "\n",
        "    # Removing all the numbers\n",
        "    comment = re.sub(r'[0-9]+', ' ', comment)\n",
        "    \n",
        "    #Removing all punctuations\n",
        "    comment = re.sub(r'[^\\w\\s]','',comment)\n",
        "    \n",
        "    # Substituting multiple spaces with single space\n",
        "    comment = re.sub(r'\\s+', ' ', comment, flags=re.I)\n",
        "    \n",
        "    # Remove single letters\n",
        "    #comment= re.sub(r\"\\b[a-zA-Z]\\b\",\"\", comment)\n",
        "        \n",
        "    comment = [word for word in comment.split() if len(word) >= 2]\n",
        "    comment = ' '.join(comment)\n",
        "    \n",
        "    return comment\n",
        "  \n",
        "#Removing the stop words\n",
        "def stopwords_data(comment):\n",
        "    more_stop_words = [\"wa\", \"gt\",\"amp\", \"u\", \"ha\", \"le\", \"doe\", \"don\",'ve']\n",
        "    stop_words_ = stop_words.union(more_stop_words)\n",
        "    comment = [word for word in comment.split() if not word in stop_words_]\n",
        "    comment = ' '.join(comment)           \n",
        "    return comment"
      ],
      "execution_count": null,
      "outputs": []
    },
    {
      "cell_type": "code",
      "metadata": {
        "id": "9efNmyfSznLg"
      },
      "source": [
        "#Progress bar\n",
        "def process_data(data):\n",
        "    data = data.progress_map(preprocess_data)  \n",
        "    return data\n",
        "\n",
        "#Preprocessing the data\n",
        "def preprocess_data(document):\n",
        "    document = cleaning_data(document)\n",
        "    document = stopwords_data(document)\n",
        "    #document = lemmatize_data(document)\n",
        "    #document = stem_data(document)\n",
        "    \n",
        "    return document"
      ],
      "execution_count": null,
      "outputs": []
    },
    {
      "cell_type": "code",
      "metadata": {
        "id": "D-kJJh6cznLm",
        "outputId": "e89f3942-bff6-446c-d153-ee98b7d85d21"
      },
      "source": [
        "print(\"Cleaning of Training data on process...\")\n",
        "cleandata_Train = process_data(X_datatrain)\n",
        "print(\"Task completed\")\n",
        "print(\"Cleaning of Testing data on process...\")\n",
        "cleandata_Test = process_data(X_datatest)\n",
        "print(\"Task completed\")"
      ],
      "execution_count": null,
      "outputs": [
        {
          "output_type": "stream",
          "text": [
            "progress-bar:   6%|▌         | 707/11582 [00:00<00:03, 3513.61it/s]"
          ],
          "name": "stderr"
        },
        {
          "output_type": "stream",
          "text": [
            "Cleaning of Training data on process...\n"
          ],
          "name": "stdout"
        },
        {
          "output_type": "stream",
          "text": [
            "progress-bar: 100%|██████████| 11582/11582 [00:02<00:00, 4274.62it/s]\n",
            "progress-bar:  16%|█▌        | 452/2898 [00:00<00:00, 4500.51it/s]"
          ],
          "name": "stderr"
        },
        {
          "output_type": "stream",
          "text": [
            "Task completed\n",
            "Cleaning of Testing data on process...\n"
          ],
          "name": "stdout"
        },
        {
          "output_type": "stream",
          "text": [
            "progress-bar: 100%|██████████| 2898/2898 [00:00<00:00, 4776.27it/s]"
          ],
          "name": "stderr"
        },
        {
          "output_type": "stream",
          "text": [
            "Task completed\n"
          ],
          "name": "stdout"
        },
        {
          "output_type": "stream",
          "text": [
            "\n"
          ],
          "name": "stderr"
        }
      ]
    },
    {
      "cell_type": "code",
      "metadata": {
        "id": "6KezNnRWznLr"
      },
      "source": [
        "X_train, X_val, y_train, y_val = train_test_split(cleandata_Train, y_datatrain, test_size=0.1, stratify=y_datatrain)\n",
        "X_test = cleandata_Test"
      ],
      "execution_count": null,
      "outputs": []
    },
    {
      "cell_type": "code",
      "metadata": {
        "id": "-_kmk5M_znLw",
        "outputId": "22438c81-f06e-4bb9-c53d-4ac7a594659b"
      },
      "source": [
        "\"\"\"from random import shuffle\n",
        "\n",
        "def augment_data(data, n=3):\n",
        "    aug = naw.SynonymAug(aug_src='wordnet')\n",
        "    #aug = naw.AntonymAug()\n",
        "        \n",
        "    augmented_text = []\n",
        "\n",
        "    for i in range(len(data)):\n",
        "        tmp = aug.augment(data[i][0], n=n)\n",
        "        for j in range(len(tmp)):\n",
        "            augmented_text.append([tmp[j], data[i][1]])\n",
        "        augmented_text.append(data[i].tolist())\n",
        "    return augmented_text\n",
        "\n",
        "augmented_data = augment_data(np.column_stack((X_train, y_train)), n=3)\n",
        "\n",
        "shuffle(augmented_data)\n",
        "augmented_data = np.array(augmented_data)\n",
        "X_train, y_train = augmented_data[:,0], augmented_data[:,1]\"\"\""
      ],
      "execution_count": null,
      "outputs": [
        {
          "output_type": "execute_result",
          "data": {
            "text/plain": [
              "\"from random import shuffle\\n\\ndef augment_data(data, n=3):\\n    aug = naw.SynonymAug(aug_src='wordnet')\\n    #aug = naw.AntonymAug()\\n        \\n    augmented_text = []\\n\\n    for i in range(len(data)):\\n        tmp = aug.augment(data[i][0], n=n)\\n        for j in range(len(tmp)):\\n            augmented_text.append([tmp[j], data[i][1]])\\n        augmented_text.append(data[i].tolist())\\n    return augmented_text\\n\\naugmented_data = augment_data(np.column_stack((X_train, y_train)), n=3)\\n\\nshuffle(augmented_data)\\naugmented_data = np.array(augmented_data)\\nX_train, y_train = augmented_data[:,0], augmented_data[:,1]\""
            ]
          },
          "metadata": {
            "tags": []
          },
          "execution_count": 58
        }
      ]
    },
    {
      "cell_type": "code",
      "metadata": {
        "id": "LYKensQvznL1",
        "outputId": "336831d2-3ee2-4d2e-bf67-3eb1c99bb647"
      },
      "source": [
        "import nltk\n",
        "\n",
        "nltk.download('punkt')\n",
        "nltk.download('wordnet')\n",
        "nltk.download('averaged_perceptron_tagger')"
      ],
      "execution_count": null,
      "outputs": [
        {
          "output_type": "stream",
          "text": [
            "[nltk_data] Downloading package punkt to /home/hamza/nltk_data...\n",
            "[nltk_data]   Package punkt is already up-to-date!\n",
            "[nltk_data] Downloading package wordnet to /home/hamza/nltk_data...\n",
            "[nltk_data]   Package wordnet is already up-to-date!\n",
            "[nltk_data] Downloading package averaged_perceptron_tagger to\n",
            "[nltk_data]     /home/hamza/nltk_data...\n",
            "[nltk_data]   Package averaged_perceptron_tagger is already up-to-\n",
            "[nltk_data]       date!\n"
          ],
          "name": "stderr"
        },
        {
          "output_type": "execute_result",
          "data": {
            "text/plain": [
              "True"
            ]
          },
          "metadata": {
            "tags": []
          },
          "execution_count": 59
        }
      ]
    },
    {
      "cell_type": "code",
      "metadata": {
        "id": "F8KvzcXrznL5"
      },
      "source": [
        "from sklearn.feature_extraction.text import TfidfVectorizer\n",
        "from sklearn.preprocessing import Normalizer\n",
        "from nltk import word_tokenize          \n",
        "from nltk.stem import WordNetLemmatizer \n",
        "from nltk.corpus import wordnet\n",
        "\n",
        "normalizer_train = Normalizer()\n",
        "\n",
        "tf_idf_vectorizer = TfidfVectorizer(stop_words=stop_words)\n",
        "vectors_train_idf = tf_idf_vectorizer.fit_transform(X_train)\n",
        "vectors_test_idf = tf_idf_vectorizer.transform(X_test)\n",
        "vectors_val_idf = tf_idf_vectorizer.transform(X_val)\n",
        "\n",
        "vectors_train_idf = normalizer_train.transform(vectors_train_idf)\n",
        "vectors_test_idf = normalizer_train.transform(vectors_test_idf)\n",
        "vectors_val_idf = normalizer_train.transform(vectors_val_idf)"
      ],
      "execution_count": null,
      "outputs": []
    },
    {
      "cell_type": "code",
      "metadata": {
        "id": "G47op1o7znL-",
        "outputId": "162981ee-216a-455e-81a4-d041e2250790"
      },
      "source": [
        "print(vectors_train_idf.shape)"
      ],
      "execution_count": null,
      "outputs": [
        {
          "output_type": "stream",
          "text": [
            "(10423, 34524)\n"
          ],
          "name": "stdout"
        }
      ]
    },
    {
      "cell_type": "code",
      "metadata": {
        "id": "5l8KuVstznMD"
      },
      "source": [
        "chi2_selector = SelectKBest(chi2, 10000)\n",
        "vectors_train_idf_chi = chi2_selector.fit_transform(vectors_train_idf, y_train)\n",
        "vectors_test_idf_chi = chi2_selector.transform(vectors_test_idf)\n",
        "vectors_val_idf_chi = chi2_selector.transform(vectors_val_idf)"
      ],
      "execution_count": null,
      "outputs": []
    },
    {
      "cell_type": "code",
      "metadata": {
        "id": "Y504csytznMI",
        "outputId": "4747d20c-7e1e-48da-ad0d-c0d883ee7125"
      },
      "source": [
        "from sklearn.naive_bayes import MultinomialNB\n",
        "\n",
        "clf = MultinomialNB(alpha=.019)\n",
        "pred_acc = cross_val_score(clf, vectors_train_idf_chi, y_train, cv = 5)\n",
        "clf.fit(vectors_train_idf_chi, y_train)\n",
        "val = clf.score(vectors_val_idf_chi, y_val)\n",
        "print(pred_acc.mean())\n",
        "print(val)"
      ],
      "execution_count": null,
      "outputs": [
        {
          "output_type": "stream",
          "text": [
            "0.9142288625913089\n",
            "0.8886971527178602\n"
          ],
          "name": "stdout"
        }
      ]
    },
    {
      "cell_type": "code",
      "metadata": {
        "id": "njyBJiRzznMN"
      },
      "source": [
        "prediction = clf.predict(vectors_test_idf_chi)"
      ],
      "execution_count": null,
      "outputs": []
    },
    {
      "cell_type": "code",
      "metadata": {
        "id": "Zmv9FhBpznMS"
      },
      "source": [
        "subm = test.copy()\n",
        "subm['subreddit'] = prediction\n",
        "del subm['body']\n",
        "subm.head()\n",
        "subm.to_csv('submission.csv', index=False)  "
      ],
      "execution_count": null,
      "outputs": []
    },
    {
      "cell_type": "code",
      "metadata": {
        "id": "HOXqgeIOznMW",
        "outputId": "7f4552ef-7050-415d-c8a7-3b19feafd5e9"
      },
      "source": [
        "from tensorflow.keras.preprocessing.text import Tokenizer\n",
        "from tensorflow.keras.utils import to_categorical\n",
        "from collections import defaultdict\n",
        "from collections import OrderedDict\n",
        "\n",
        "label_tokenizer = Tokenizer()\n",
        "label_tokenizer.fit_on_texts(np.array(y_datatrain))\n",
        "\n",
        "y_train_encoded = np.array(label_tokenizer.texts_to_sequences(np.array(y_train)))\n",
        "y_val_encoded = np.array(label_tokenizer.texts_to_sequences(np.array(y_val)))\n",
        "\n",
        "y_train_encoded = to_categorical(y_train_encoded)\n",
        "y_val_encoded = to_categorical(y_val_encoded)\n",
        "\n",
        "\n",
        "def get_class_weights(y):\n",
        "    counter = Counter(y)\n",
        "    majority = max(counter.values())\n",
        "    return  {cls: float(majority/count) for cls, count in counter.items()}\n",
        "\n",
        "class_weight = get_class_weights(y_train)\n",
        "reverse_word_map = dict(label_tokenizer.word_index.items())\n",
        "\n",
        "sDict = defaultdict(int)\n",
        "for key, value in class_weight.items():\n",
        "    new_key = reverse_word_map[key] - 1\n",
        "    sDict[new_key] = value\n",
        "    \n",
        "class_weight_new = dict(sDict)\n",
        "class_weight = dict(OrderedDict(sorted(class_weight_new.items())))\n",
        "print(class_weight)"
      ],
      "execution_count": null,
      "outputs": [
        {
          "output_type": "stream",
          "text": [
            "{0: 1.0, 1: 1.1545503500269252, 2: 1.198434879821129, 3: 1.4735395189003437, 4: 1.8262350936967633, 5: 2.3457330415754925, 6: 3.036827195467422, 7: 5.583333333333333}\n"
          ],
          "name": "stdout"
        }
      ]
    },
    {
      "cell_type": "code",
      "metadata": {
        "id": "782toXu8znMb",
        "outputId": "c49dd8c0-cfe9-4886-a013-e3a802f60750"
      },
      "source": [
        "import tensorflow as tf\n",
        "from tensorflow.keras.models import Sequential\n",
        "from tensorflow.keras.layers import Dense, Input, Activation, Dropout, GaussianNoise\n",
        "from tensorflow.keras import regularizers\n",
        "\n",
        "model = Sequential()\n",
        "model.add(Input(shape=(vectors_train_idf.shape[1],), sparse=True))\n",
        "model.add(Dense(128))\n",
        "model.add(Activation('relu'))\n",
        "model.add(Dropout(0.5))\n",
        "model.add(GaussianNoise(2))\n",
        "model.add(Dense(64))\n",
        "model.add(Activation('relu'))\n",
        "model.add(Dropout(0.2))\n",
        "model.add(Dense(y_train_encoded.shape[1]))\n",
        "model.add(Activation('softmax'))\n",
        "\n",
        "optimizer = tf.keras.optimizers.Adam()\n",
        "\n",
        "model.compile(loss='categorical_crossentropy', \n",
        "              optimizer=optimizer, \n",
        "              metrics=['accuracy'])\n",
        "\n",
        "vectors_train_idf.sort_indices()\n",
        "vectors_val_idf.sort_indices()\n",
        "\n",
        "history = model.fit(vectors_train_idf, y_train_encoded, \n",
        "                    batch_size=32, \n",
        "                    epochs=50,\n",
        "                    verbose=1,\n",
        "                    #class_weight=class_weight,\n",
        "                    validation_data=(vectors_val_idf, y_val_encoded))\n"
      ],
      "execution_count": null,
      "outputs": [
        {
          "output_type": "stream",
          "text": [
            "Epoch 1/50\n",
            "326/326 [==============================] - 1s 4ms/step - loss: 2.7552 - accuracy: 0.1643 - val_loss: 2.1398 - val_accuracy: 0.3097\n",
            "Epoch 2/50\n",
            "326/326 [==============================] - 1s 4ms/step - loss: 2.1844 - accuracy: 0.1913 - val_loss: 2.1282 - val_accuracy: 0.3434\n",
            "Epoch 3/50\n",
            "326/326 [==============================] - 1s 4ms/step - loss: 2.0146 - accuracy: 0.2294 - val_loss: 2.0758 - val_accuracy: 0.3581\n",
            "Epoch 4/50\n",
            "326/326 [==============================] - 1s 4ms/step - loss: 1.9045 - accuracy: 0.2877 - val_loss: 1.9154 - val_accuracy: 0.6005\n",
            "Epoch 5/50\n",
            "326/326 [==============================] - 1s 4ms/step - loss: 1.7750 - accuracy: 0.3527 - val_loss: 1.6247 - val_accuracy: 0.7204\n",
            "Epoch 6/50\n",
            "326/326 [==============================] - 1s 4ms/step - loss: 1.6000 - accuracy: 0.4267 - val_loss: 1.2723 - val_accuracy: 0.7748\n",
            "Epoch 7/50\n",
            "326/326 [==============================] - 1s 4ms/step - loss: 1.4166 - accuracy: 0.5102 - val_loss: 0.9995 - val_accuracy: 0.7981\n",
            "Epoch 8/50\n",
            "326/326 [==============================] - 1s 4ms/step - loss: 1.2379 - accuracy: 0.5720 - val_loss: 0.7891 - val_accuracy: 0.8110\n",
            "Epoch 9/50\n",
            "326/326 [==============================] - 1s 4ms/step - loss: 1.1110 - accuracy: 0.6154 - val_loss: 0.6905 - val_accuracy: 0.8395\n",
            "Epoch 10/50\n",
            "326/326 [==============================] - 1s 4ms/step - loss: 0.9763 - accuracy: 0.6673 - val_loss: 0.5769 - val_accuracy: 0.8430\n",
            "Epoch 11/50\n",
            "326/326 [==============================] - 1s 4ms/step - loss: 0.8890 - accuracy: 0.6941 - val_loss: 0.5277 - val_accuracy: 0.8568\n",
            "Epoch 12/50\n",
            "326/326 [==============================] - 1s 4ms/step - loss: 0.8202 - accuracy: 0.7207 - val_loss: 0.4878 - val_accuracy: 0.8714\n",
            "Epoch 13/50\n",
            "326/326 [==============================] - 1s 4ms/step - loss: 0.7412 - accuracy: 0.7453 - val_loss: 0.4574 - val_accuracy: 0.8706\n",
            "Epoch 14/50\n",
            "326/326 [==============================] - 1s 4ms/step - loss: 0.7130 - accuracy: 0.7566 - val_loss: 0.4289 - val_accuracy: 0.8697\n",
            "Epoch 15/50\n",
            "326/326 [==============================] - 1s 3ms/step - loss: 0.6467 - accuracy: 0.7773 - val_loss: 0.4079 - val_accuracy: 0.8723\n",
            "Epoch 16/50\n",
            "326/326 [==============================] - 1s 3ms/step - loss: 0.6082 - accuracy: 0.7881 - val_loss: 0.3878 - val_accuracy: 0.8689\n",
            "Epoch 17/50\n",
            "326/326 [==============================] - 1s 3ms/step - loss: 0.5622 - accuracy: 0.8099 - val_loss: 0.3618 - val_accuracy: 0.8801\n",
            "Epoch 18/50\n",
            "326/326 [==============================] - 1s 3ms/step - loss: 0.5251 - accuracy: 0.8174 - val_loss: 0.3472 - val_accuracy: 0.8861\n",
            "Epoch 19/50\n",
            "326/326 [==============================] - 1s 3ms/step - loss: 0.5008 - accuracy: 0.8261 - val_loss: 0.3489 - val_accuracy: 0.8913\n",
            "Epoch 20/50\n",
            "326/326 [==============================] - 1s 4ms/step - loss: 0.4795 - accuracy: 0.8318 - val_loss: 0.3346 - val_accuracy: 0.8947\n",
            "Epoch 21/50\n",
            "326/326 [==============================] - 1s 4ms/step - loss: 0.4545 - accuracy: 0.8426 - val_loss: 0.3328 - val_accuracy: 0.8887\n",
            "Epoch 22/50\n",
            "326/326 [==============================] - 1s 4ms/step - loss: 0.4174 - accuracy: 0.8576 - val_loss: 0.3147 - val_accuracy: 0.8939\n",
            "Epoch 23/50\n",
            "326/326 [==============================] - 1s 4ms/step - loss: 0.3986 - accuracy: 0.8637 - val_loss: 0.3088 - val_accuracy: 0.8991\n",
            "Epoch 24/50\n",
            "326/326 [==============================] - 1s 4ms/step - loss: 0.3898 - accuracy: 0.8658 - val_loss: 0.3072 - val_accuracy: 0.9034\n",
            "Epoch 25/50\n",
            "326/326 [==============================] - 1s 3ms/step - loss: 0.3600 - accuracy: 0.8807 - val_loss: 0.2881 - val_accuracy: 0.8991\n",
            "Epoch 26/50\n",
            "326/326 [==============================] - 1s 3ms/step - loss: 0.3436 - accuracy: 0.8789 - val_loss: 0.2935 - val_accuracy: 0.9008\n",
            "Epoch 27/50\n",
            "326/326 [==============================] - 1s 3ms/step - loss: 0.3344 - accuracy: 0.8851 - val_loss: 0.2886 - val_accuracy: 0.9077\n",
            "Epoch 28/50\n",
            "326/326 [==============================] - 1s 3ms/step - loss: 0.3084 - accuracy: 0.8909 - val_loss: 0.2795 - val_accuracy: 0.9111\n",
            "Epoch 29/50\n",
            "326/326 [==============================] - 1s 3ms/step - loss: 0.2919 - accuracy: 0.9019 - val_loss: 0.2770 - val_accuracy: 0.9085\n",
            "Epoch 30/50\n",
            "326/326 [==============================] - 1s 3ms/step - loss: 0.2924 - accuracy: 0.9000 - val_loss: 0.2790 - val_accuracy: 0.9103\n",
            "Epoch 31/50\n",
            "326/326 [==============================] - 1s 3ms/step - loss: 0.2827 - accuracy: 0.9036 - val_loss: 0.2693 - val_accuracy: 0.9129\n",
            "Epoch 32/50\n",
            "326/326 [==============================] - 1s 3ms/step - loss: 0.2650 - accuracy: 0.9090 - val_loss: 0.2775 - val_accuracy: 0.9103\n",
            "Epoch 33/50\n",
            "326/326 [==============================] - 1s 3ms/step - loss: 0.2532 - accuracy: 0.9129 - val_loss: 0.2679 - val_accuracy: 0.9077\n",
            "Epoch 34/50\n",
            "326/326 [==============================] - 1s 3ms/step - loss: 0.2452 - accuracy: 0.9183 - val_loss: 0.2651 - val_accuracy: 0.9085\n",
            "Epoch 35/50\n",
            "326/326 [==============================] - 1s 3ms/step - loss: 0.2390 - accuracy: 0.9188 - val_loss: 0.2660 - val_accuracy: 0.9129\n",
            "Epoch 36/50\n",
            "326/326 [==============================] - 1s 3ms/step - loss: 0.2183 - accuracy: 0.9255 - val_loss: 0.2610 - val_accuracy: 0.9129\n",
            "Epoch 37/50\n",
            "326/326 [==============================] - 1s 3ms/step - loss: 0.2056 - accuracy: 0.9285 - val_loss: 0.2619 - val_accuracy: 0.9154\n",
            "Epoch 38/50\n",
            "326/326 [==============================] - 1s 3ms/step - loss: 0.2124 - accuracy: 0.9261 - val_loss: 0.2596 - val_accuracy: 0.9129\n",
            "Epoch 39/50\n",
            "326/326 [==============================] - 1s 3ms/step - loss: 0.1962 - accuracy: 0.9342 - val_loss: 0.2571 - val_accuracy: 0.9129\n",
            "Epoch 40/50\n",
            "326/326 [==============================] - 1s 3ms/step - loss: 0.1923 - accuracy: 0.9351 - val_loss: 0.2599 - val_accuracy: 0.9042\n",
            "Epoch 41/50\n",
            "326/326 [==============================] - 1s 3ms/step - loss: 0.1907 - accuracy: 0.9363 - val_loss: 0.2650 - val_accuracy: 0.9085\n",
            "Epoch 42/50\n",
            "326/326 [==============================] - 1s 3ms/step - loss: 0.1639 - accuracy: 0.9431 - val_loss: 0.2653 - val_accuracy: 0.9146\n",
            "Epoch 43/50\n",
            "326/326 [==============================] - 1s 3ms/step - loss: 0.1830 - accuracy: 0.9381 - val_loss: 0.2611 - val_accuracy: 0.9085\n",
            "Epoch 44/50\n",
            "326/326 [==============================] - 1s 3ms/step - loss: 0.1637 - accuracy: 0.9444 - val_loss: 0.2600 - val_accuracy: 0.9154\n",
            "Epoch 45/50\n",
            "326/326 [==============================] - 1s 3ms/step - loss: 0.1566 - accuracy: 0.9460 - val_loss: 0.2551 - val_accuracy: 0.9120\n",
            "Epoch 46/50\n",
            "326/326 [==============================] - 1s 3ms/step - loss: 0.1578 - accuracy: 0.9461 - val_loss: 0.2599 - val_accuracy: 0.9103\n",
            "Epoch 47/50\n",
            "326/326 [==============================] - 1s 3ms/step - loss: 0.1506 - accuracy: 0.9475 - val_loss: 0.2577 - val_accuracy: 0.9120\n",
            "Epoch 48/50\n",
            "326/326 [==============================] - 1s 3ms/step - loss: 0.1403 - accuracy: 0.9535 - val_loss: 0.2526 - val_accuracy: 0.9146\n",
            "Epoch 49/50\n",
            "326/326 [==============================] - 1s 3ms/step - loss: 0.1357 - accuracy: 0.9530 - val_loss: 0.2575 - val_accuracy: 0.9111\n",
            "Epoch 50/50\n",
            "326/326 [==============================] - 1s 3ms/step - loss: 0.1307 - accuracy: 0.9543 - val_loss: 0.2585 - val_accuracy: 0.9146\n"
          ],
          "name": "stdout"
        }
      ]
    },
    {
      "cell_type": "code",
      "metadata": {
        "id": "pCK_T5zYznMg"
      },
      "source": [
        "vectors_test_idf.sort_indices()\n",
        "prediction = np.argmax(model.predict(vectors_test_idf), axis = 1)\n",
        "reverse_word_map = dict(map(reversed, label_tokenizer.word_index.items()))\n",
        "prediction = np.vectorize(reverse_word_map.get)(prediction)\n",
        "\n",
        "subm = test.copy()\n",
        "subm['subreddit'] = prediction\n",
        "del subm['body']\n",
        "subm.head()\n",
        "subm.to_csv('submission4.csv', index=False)  "
      ],
      "execution_count": null,
      "outputs": []
    },
    {
      "cell_type": "code",
      "metadata": {
        "scrolled": false,
        "id": "3yRZW8DhznMk",
        "outputId": "e54eac22-11e4-403f-d1f8-c0d546e9716d"
      },
      "source": [
        "def confusion_matrix(ypred, y_test):\n",
        "    from sklearn.metrics import classification_report, confusion_matrix\n",
        "    fig, ax = plt.subplots(figsize=(12,12))\n",
        "    sns.heatmap(confusion_matrix(y_test, ypred, labels=np.unique(y_test)), annot=True, fmt=\"d\", xticklabels=np.unique(y_test), yticklabels=np.unique(y_test), ax=ax)\n",
        "    #display(pd.DataFrame(confusion_matrix(y_test , ypred), columns=['Pred: Reddit','CS:GO','Overwatch','Music','anime','baseball','canada','conspiracy','europe','funny','GOT','hockey','movies','LOL','nba','soccer','nfl','trees','news','wow'], index=['AskReddit','GlobalOffensive','Overwatch','Music','anime','baseball','canada','conspiracy','europe','funny','GOT','hockey','movies','league of legends','nba','soccer','nfl','trees','news','wow']))\n",
        "    print(classification_report(y_test,ypred))  \n",
        "    Accuracy = accuracy_score(y_test, ypred)\n",
        "    return Accuracy\n",
        "\n",
        "\n",
        "prediction = np.argmax(model.predict(vectors_val_idf), axis = 1)\n",
        "reverse_word_map = dict(map(reversed, label_tokenizer.word_index.items()))\n",
        "prediction = np.vectorize(reverse_word_map.get)(prediction)\n",
        "#confusion_matrix(prediction, y_val)\n",
        "\n",
        "misclassified = np.where(prediction != y_val)\n",
        "X_val_print = np.array(X_val)\n",
        "y_val_print = np.array(y_val)\n",
        "\n",
        "for i in misclassified[0]:\n",
        "    print(X_val_print[i], \", \", y_val_print[i], \", \", prediction[i])\n",
        "    print(\"\\n\")\n"
      ],
      "execution_count": null,
      "outputs": [
        {
          "output_type": "stream",
          "text": [
            "dont think coverd anything new quite heard digital media security related communities really appreciate screen play entire documentary showing prey big boys data able influence lives ,  datascience ,  hardware\n",
            "\n",
            "\n",
            "hear lot shadiness bitcoin well read lot literally convert earnings fiat generate quarterly reports saving price coin time purchase sales accounted taxed ,  gamedev ,  cars\n",
            "\n",
            "\n",
            "one point another forum someone worked atlas teased scenario collection fs afaik hes working anymore wonder initial scenarios initially planned collection ,  rpg ,  cars\n",
            "\n",
            "\n",
            "waves hand know besm decently deal besm end result want transformation end day effects primary thing knowing want transformation going critical applies everything else whole system youre looking create head ,  rpg ,  gamedev\n",
            "\n",
            "\n",
            "really loved art direction direction general reboot big meh feels like theyre trying jump remake success even tho rayman wouldve best option kinda looks like one arabian king porn games advertised like found wife cheating forgive kills im guessing big announcement rayman beyond good evil ,  gamernews ,  anime\n",
            "\n",
            "\n",
            "companies wrong games less microtransactions seeing many games filled take star wars battlefront example needed play lot hours unlock new character could straight give wallet ea microtransactions implemented like ea suck companies wrong employees also seeing lot reports lately companies putting much stress employees isnt good employees sorry noticed meant employees also games ,  gamedev ,  gamernews\n",
            "\n",
            "\n",
            "skip pc bullshit couldnt write anything werent story would boring fuck cast nothing cis insert race women dont crazy stereotypical characters youll fine ,  gamedev ,  gamernews\n",
            "\n",
            "\n",
            "bot cant access link product first user tags game action adventure indie puzzle platformer platformer name airhead controller support full supported platforms windows product airhead adventure sprawling interconnected world must explore evolve overcome intricate puzzles succeed play airhead small body round inflated organism uses head head slowly surely deflating chance save life must use air tanks keep head inflated explore airheads metroidvania style world searching amazing abilities upgrades unlock new areas puzzles overcome adventure uncover true connection head air tanks technology litters world save head matter cost finding way airheads world always easy must brave dark caverns ancient structures mysterious locations order save head along way find new abilities unlocking new areas puzzles go even farther afield knows find hidden corners world explore come across numerous puzzles use environment strange creatures old technology challenge logic creativity world complex nothing seems must master airheads many abilities want stand chance saving head body head must work together accomplish goal time passes bond abilities grow preserve companionship impact choices become clear willing shoulder consequences saving friend symbiotic reliant air source ripped apart machine unknown origin incomplete head like organism left die slowly leaks air unassuming body instinct help others witnesses tragedy thoughts consequences takes new heads fate shoulders becoming airhead airhead must rely air tanks keep head inflated searches far wide machine stole heads air source machine small part larger whole head may hold greater place grand scheme body could ever imagined beautifully art style embracing bold color bleak shadow immersive platform experience exploration metroidvania style world full secrets hidden paths challenging puzzles exploring unique mechanics detachable head full air many powerful abilities discover giving access new areas pu ,  gamernews ,  rpg\n",
            "\n",
            "\n",
            "want something doesnt quite fit mold typical romances id suggest try kuzu honkai aka scum wish bit unorthodox premise suprisingly mature depictions human behavior encompassing good bad ugly relationships little controversial everyone cup tea especially isnt light fluffy like romances youre willing venture something different id say give chance ,  anime ,  rpg\n",
            "\n",
            "\n",
            "honestly mightve good tactic people react badly change price say leak fake people like prove keep sure would smart business tactic ,  gamernews ,  hardware\n",
            "\n",
            "\n",
            "wait gonna practically impossible obtain guess well wait release get info got pushed back one day big navi announcement right ,  hardware ,  gamernews\n",
            "\n",
            "\n",
            "renegade game studios announced bunch licensed compatible rpgs hasbro properties today wrote forbes website http www forbes com sites robwieland exclusive renegade game studios extends partnership hasbro de fb ,  rpg ,  gamernews\n",
            "\n",
            "\n",
            "netherlands overtime weekends often get higher rates always cant imagine poland leading example though hopefully specific company use increased rates ,  gamernews ,  hardware\n",
            "\n",
            "\n",
            "looks exactly like faster light cheap paint job ftl already think better aesthetic probably goes sale like bucks days get instead ,  gamernews ,  cars\n",
            "\n",
            "\n",
            "magic coming sent back routed government end game issue solved government completes mission government organisation actual government part ,  rpg ,  gamernews\n",
            "\n",
            "\n",
            "played quite text rpgs phone currently writing way least get something published portfolio think games rather popular people already enjoy reading general gamer population probably doesnt really care much since arent really game mechanics apart choose happens next clicking resource managment admittedly makes little boring play especially story telling author isnt good hope helps little ,  gamedev ,  rpg\n",
            "\n",
            "\n",
            "selling one second hand seeing standard version sell ebay seeing touchscreen version sell refurbished amazon arent many examples base price much touchscreen version computer aio worth standard ,  computers ,  hardware\n",
            "\n",
            "\n",
            "people expected high quality ray tracing console fool tech immature used real relevance new generation hardware isnt good enough consoles came wrong time regards ray tracing generation run awesomely gen focus high quality fps gaming fps died begs question though pc rdna perform ray tracing mostly par due nvidias implementation mature indication plus dlss helps massively ,  gamernews ,  hardware\n",
            "\n",
            "\n",
            "dont like sites like crunchyroll netflix prime etc since remove title also paying blu ray disk plus shipping mention dont bd player would cost way much site support creators also wont fcked licence streaming site expires ,  anime ,  hardware\n",
            "\n",
            "\n",
            "would pci extension cable work could card sitting ziptied taped outside inside looked ebay found pci slot riser card extender extension ribbon flex relocate cable ,  computers ,  hardware\n",
            "\n",
            "\n",
            "laziness practice even english yeah never understood operating system ui bad cannot use game today dont even switch resolutions like pc games back day dark mode goes brbrbrbr ,  gamedev ,  gamernews\n",
            "\n",
            "\n",
            "try looking stamping blanks size two inch http www amazon com rmp stamping blanks round aluminum dp ihychs http www amazon com rmp stamping blanks round aluminum dp ihychs three inch http www amazon com rmp stamping blanks round aluminum dp wg pqj http www amazon com rmp stamping blanks round aluminum dp wg pqj cant find though see aluminum disc full quarter inch thick one ,  rpg ,  cars\n",
            "\n",
            "\n",
            "light might completed goal task different abilities thought made good use circumstances lelouch use power resources werent good ,  anime ,  rpg\n",
            "\n",
            "\n",
            "disc drive gb storage playing games time impossible basically meaningful backwards compatibility doesnt support xbox one upgrades xbox one games youre stuck playing xbox one games would ask less ram xbox one cant support textures one mode since disc drive obviously cant play xbox one games either except ones happened buy digitally functional level series heavily compromised system ,  hardware ,  gamernews\n",
            "\n",
            "\n",
            "cannot make wide angle cameras easier use vastly expensive produced microscopic scale currently aspects photography well metalenses going capable replacing normal lenses ir microscopic lens capable used things like face tracking ,  hardware ,  gamedev\n",
            "\n",
            "\n",
            "ummm isnt exactly scam take money dont deliver product ,  gamernews ,  hardware\n",
            "\n",
            "\n",
            "would love see chips measure older cpus like etc gets expensive want stick intel upgrade components need new motherboard every time ,  hardware ,  computers\n",
            "\n",
            "\n",
            "mac great information protection best thing know terrorist san bernardino iphone apple would unlock fbi want shady things get mac iphone ,  computers ,  gamedev\n",
            "\n",
            "\n",
            "contrary assumption implied approach frustum always bounding box opposite sides necessarily parallel instead perspective frustum usually axes check frustum near far sat left right top bottom differ axes checked enough obb vs obb also third axis obb doesnt need computed cross product already matrix dist part seems redundant ranges sufficient check overlap ,  gamedev ,  datascience\n",
            "\n",
            "\n",
            "hmmm hope superman poster teaser actually take superman would kinda badass play bad guys basic abilities taking ultimate good guy god like abilities something akin story ff wonder kind format formula game follow ,  gamernews ,  rpg\n",
            "\n",
            "\n",
            "someone explain certain games take advantage new hardware namely ssd technology still lost work certain games others ,  gamernews ,  hardware\n",
            "\n",
            "\n",
            "temps little high dangerously might recommend adding case fan two link isnt working cant see case could accept really wanted could replace cpu thermal paste upgrade cpu cooler would increase case airflow first ,  computers ,  hardware\n",
            "\n",
            "\n",
            "mbp retired status still use occasionally wife mpb daily driver dell xps upgraded ti retro gaming monster plan keep long time next year gets new thermal paste cpu otherwise left alone current gamer based system af xt eventually get xxx series processor probably gpu next gpu generation rtx series rdna gets cheap plan retire retro gaming status course want running ps games emulation retro gaming relative cyberpunk considered retro ,  computers ,  hardware\n",
            "\n",
            "\n",
            "well new one tsr long sordid past several bad financial years part sheer greed called back day crossed estimates sales time would make far much product distributors started returning products refunds didnt anything pay returns stuff didnt sell never heard anything train seems highly unlikely mean would anyone bother maybe blumes made odd purchases ,  rpg ,  hardware\n",
            "\n",
            "\n",
            "thing people missing ddr going one channel two seeing general speed bump getting mt bump well youd like read http www rambus com blogs get ready ddr dimm chipsets ,  hardware ,  cars\n",
            "\n",
            "\n",
            "copycat channel orginal laughs microscopically space lose access main channel yeah op youre gonna need provide explanation comment history shows bunch spam subs cant tell youre stealing material ,  hardware ,  anime\n",
            "\n",
            "\n",
            "first rumors came ps mentioned spider man without load times due ssd shown tech demos suppose used remaster showcase tech without leaking miles morales ,  gamernews ,  hardware\n",
            "\n",
            "\n",
            "volume vs profit margin sell items profit one made sell items profit one made either way made dollars ,  hardware ,  gamernews\n",
            "\n",
            "\n",
            "make feature commentators talk shows sponsors like actually ppv right fighters announced make skippable good measure could interesting gimmick ,  gamernews ,  hardware\n",
            "\n",
            "\n",
            "welcome future club new co op game development studio check website info getting started posted futureclubdev http twitter com futureclubdev link tweet http futureclub dev github http github com username new http github com username ,  gamernews ,  gamedev\n",
            "\n",
            "\n",
            "little disappointing ending said wasnt epic obvious first eps going haha surprised put friendship sacrifice whole backstory ,  anime ,  gamernews\n",
            "\n",
            "\n",
            "im glad someone brought topic im starting college year prospective double major info sci env sci ive really wondering go make difference future interesting ideas thread ,  datascience ,  gamedev\n",
            "\n",
            "\n",
            "bot cant access link product first user tags game story rich narration conversation investigation atmospheric name invincible supported platforms windows product invincible first person sci fi thriller set retro future timeline waking space scientist hostile planet embark mysterious mission find missing crew spaceship survival matter correct choices taken whilst uncovering secrets planet bigger anyone thought scientist onboard interstellar scientific expedition suddenly thrown life death rescue mission landing planet regis iii find missing crew members using advanced space equipment whilst relying brains instincts survive planet quickly occurs unwelcoming soon youll discover regis iii holds terrifying secrets uncovered youre piecing together fate crew delve deeper mystery realise perhaps alone places like planet better left untouched late turn back features retro future atompunk setting reminiscent era space race analogue yet advanced technology allowing drones autonomous robots support spoil mission immersive gameplay non linear story shaped relationships choices persuasive skills beautiful state art graphics powered unreal engine intriguing story inspired stanislaw lems seminal sci fi cult classic name ,  gamernews ,  rpg\n",
            "\n",
            "\n",
            "essentially game would always youd trick player thinking parts real life draw picture piece paper desk picture exists world ,  gamedev ,  rpg\n",
            "\n",
            "\n",
            "really need consider last gen ryzen great choices intel stuck nm transistor lithography since stock plummeted havent improved technologically amd ryzen made huge jump nm ryzen nm years technological jump put amd ahead intel apple go nm year apple believes new iphone stronger intel laptop cpus apple start putting iphone cpus laptops ultimately best suggestion depends budget want ,  computers ,  hardware\n",
            "\n",
            "\n",
            "isnt kind thing teach trying waste time something ask different people get different answers depending type job background era etc spend time something productive go make games program stuff tell teacher stop wasting time obvious bs tasks ,  gamedev ,  datascience\n",
            "\n",
            "\n",
            "unfortunately radiator fans dont look make complete seal radiator shouldnt much problem dont see point leaving bit extra efficiency table like ,  hardware ,  cars\n",
            "\n",
            "\n",
            "according numbers means games compatible new gen ,  gamernews ,  hardware\n",
            "\n",
            "\n",
            "played demo stupidity ai really wore im expected build base research everything fight skrimishes every node dont particularly want micromanage every unit dumb ,  gamernews ,  hardware\n",
            "\n",
            "\n",
            "ironically sounds like perfect example case interview question important mba programs getting job consulting like actual answer far less important showing process youd get youre told estimate number taxi drivers san francisco example start saying look population make estimate amount percentage people use driver per day make allowance peak capacity state answer confidence case id take something like relatively average city look mobile development studios find making estimate many might havent announced work freelance youd take number developers average studio youd take number multiply population country population city get estimate youre trying ballpark logically gotten way also shocked wasnt taught class usually pretty early business school ,  gamedev ,  datascience\n",
            "\n",
            "\n",
            "ughicantfindaname thought next installment date live put hold series would prequel first season believe releasing half year half next year call date bullet plus next phase game already japan correct wrong fans ,  anime ,  gamernews\n",
            "\n",
            "\n",
            "pascal series desktop laptop maxq desktop laptop maxq turing series desktop laptop maxq desktop laptop maxq ampere series desktop laptop maxq possible desktop laptop maxq possible stats taken bob trades video http www youtube com watch hiqlh vkm ab channel bobofalltrades ,  hardware ,  computers\n",
            "\n",
            "\n",
            "wonder catch obviously going always online price catch cloud gaming little actual hardware box subscription service gotta pay premium xbox live platinum adds ,  gamernews ,  hardware\n",
            "\n",
            "\n",
            "quebec toxic part canada attitude perpetuates every industry get free pass bullshit however political power hold federal stage ,  gamedev ,  gamernews\n",
            "\n",
            "\n",
            "spellbound kingdoms pretty cool fighting style moves around tree like chart start fight weaker moves usually move along tree one big finishers repeatedly also see opponent tree try move section stuff like go move makes miss resets backwards tree ,  rpg ,  gamernews\n",
            "\n",
            "\n",
            "ive never played game maybe naive dont quite understand game popular seems like get group friends together would tons fun often get group friends large enough play game like together actually quite regularly seems like would lose appeal youd learn everyone style deceiving people general strategy doesnt seem like would longevity dont even see would work single player think typing supposed judge lying typed words would sooo easy cheat play friend get murdered tell murderer doesnt seem like would much fun without group friends see would gain traction due streamers playing perfect feel like people would get bored quick trouble consistently finding people play play game please explain wrong game popular ,  gamernews ,  rpg\n",
            "\n",
            "\n",
            "imho perfect beginner want get serious know code pherhaps use low level libraries like sdl get pretty damn good understanding going even places plan stay hobby would say python quite good seen compromise two ,  gamedev ,  datascience\n",
            "\n",
            "\n",
            "looper short video http imgur com uivtviy come discover wonderful world loops puzzles challenges sure keep toes looper unique puzzle action game variety mechanics across levels developed ludumdare jam hrs play itch io http short bread itch io looper rate ludum dare http ldjam com events ludum dare looper ,  gamedev ,  rpg\n",
            "\n",
            "\n",
            "could guys please say know game dont use character model try things try experimenting third person one weakness character modelling going try best aproach ,  gamedev ,  rpg\n",
            "\n",
            "\n",
            "http preview redd pixr jpg width format pjpg auto webp cbcbba fdafb faae ae ad http preview redd obr sb pixr jpg width format pjpg auto webp ee ca bd ,  computers ,  gamedev\n",
            "\n",
            "\n",
            "quick question halo game game pass newest full campaign reach im trying finish halo experience many different versions idea halo wars ,  gamernews ,  gamedev\n",
            "\n",
            "\n",
            "would like say thank everyone participates subreddit must admit complete lurker page time one places puts smile face stories advice challenges etc thank bringing joy helped ever know ,  cars ,  rpg\n",
            "\n",
            "\n",
            "note gpl port would need gpl well friendly proprietary software youre big foss though power saying gpl bad thing people aware ,  datascience ,  hardware\n",
            "\n",
            "\n",
            "strong indication either way logically youd expect something even rebranded chipset pair sake ensuring people buy something guaranteed compatible bios version right dont know ,  hardware ,  gamernews\n",
            "\n",
            "\n",
            "need feedback rpgcreation might help friendly competent people post specific questions though people interested area already working project ,  rpg ,  datascience\n",
            "\n",
            "\n",
            "people hobbies allowed frustrated hobby dont need tell grownups end world get frustrated ideally people work living greater responsibilities gaming internet already faculties put things perspective ,  hardware ,  gamedev\n",
            "\n",
            "\n",
            "stuff suggest general dont know exactly implement ressurection make see creapy stuff time cost kind sanity implying coming closer maybe get ressurect without something important away others ,  rpg ,  gamedev\n",
            "\n",
            "\n",
            "hope part launch traditionally releases later rest family edit lmao holy shit got fucking jebaited announced pogchamp edit someone get stop already dead meme please ,  hardware ,  gamernews\n",
            "\n",
            "\n",
            "havent seen one person say anything really great game ill admit looks cool really wanted try reviews bad reviews testimonials players friends ,  gamernews ,  rpg\n",
            "\n",
            "\n",
            "profit margins assembling computers custom computers extremely slim people would rather buy pre built cookie cutter learn theyre serious learning build customer purchase parts pieces delivered assemble charge flat rate hundred dollars assembly upcharge additional programs installed depending software customer wants installed keep mind need provide keys log ins passwords keep mind ship computers even light distance shipping service gentle sure experiences like fedex absolute taboo theyve destroyed several items mine completely lost items goes usps well ive bad experiences ups always made amends corrected issues immediately ,  computers ,  hardware\n",
            "\n",
            "\n",
            "considering weve already seen gesomon think squid digimon swimming around internet actually calamaramon water beast spirit frontier sort make creepy eyeballs tentacles spiky protrusions man velgrmon skullknightmon calamaramon devimon hell line bad guys hopefully fact calamaramon seemingly heading towards real world means well see kids deal somehow ,  anime ,  gamernews\n",
            "\n",
            "\n",
            "rarely use mouse game hours anyways id prefer good keyboard said long arent actually bad id usually happy still fun annoy family members clicky keyboards ,  computers ,  gamernews\n",
            "\n",
            "\n",
            "remember gateway computers theyre back pog form walmart stores gateway doesnt stigma acer subsidiary brands carried people fond memories old emachines packard bell computers ,  hardware ,  computers\n",
            "\n",
            "\n",
            "tried share vid friend found current kickstarter campaign half way goal gonna back http www kickstarter com projects zelart light http www kickstarter com projects zelart light ,  gamernews ,  rpg\n",
            "\n",
            "\n",
            "ago project lda classification browser bookmarks publish revealing remember girlfriend part community members probably already know project conceivable point future least one try spoof either one information presented world whether done malice fun need ready ,  datascience ,  gamedev\n",
            "\n",
            "\n",
            "id recommend free datasets guys make mentioned article dexamethasone announcement could made hedge funds fortune alpha week http medium com zed dexamethasone announcement could made hedge funds fortune alpha week abb http medium com zed dexamethasone announcement could made hedge funds fortune alpha week abb ,  datascience ,  rpg\n",
            "\n",
            "\n",
            "ps pretty chunky makes sense know lot people complained loud original ps could get course beginning generation games come arent likely push limits hardware truly next gen games come well know sure also want get raw data loud loud studio tested could super loud quiet dont know plus people arent sensitive noise single anecdote isnt everything regardless even halfway accurate ill impressed th generation consoles pretty boring everything far shaping genuinely interesting ,  hardware ,  gamernews\n",
            "\n",
            "\n",
            "sas like sqls retarded sibling one look know theyre family somethings quite right nevertheless still family youll come love need little patient ,  datascience ,  cars\n",
            "\n",
            "\n",
            "attaboah following variations yeeeaaah boah youre good boah yeeeaah boah cmon boah spoken intonation arthur morgan absolutely crucial ,  rpg ,  cars\n",
            "\n",
            "\n",
            "cpu general purpose trades flexibility programmable software vs speed always overheads setting loops managing data structures managing interrupts data transfer etc software improved hardware one way improve performance built special purpose hardware accelerators specific tasks encryption dsp video encoding dma offloading intelligent peripherals etc way improve amount processing parallel operations vector matrix processing avx executing units cores threads software algorithms sometimes improved lot inefficiency software world chewing processing power bad algorithms might used time complexity http en wikipedia org wiki time complexity inefficient languages etc implemented optimized ,  hardware ,  datascience\n",
            "\n",
            "\n",
            "hillfolk dramasystem built make hbo series games series tribulations immigrant family trying make way america running restaurant great let look juan came us years ago torn staying true mexican roots becoming real american dramatic poles dad pablo pablo trying keep moral center navigating cutthroat world restaurateuring torn good man good businessman poles juan mother brother guillermo got tired washing dishes sucking customers think mexican food tacos got job driving truck company restaurant buys food lately started distributing weed along route along oregano parsley attention rivals already starting could feds far behind might mean sister family torn making success becoming danger loved ones guillermo tells juan ride along weekend delivery really asking juan approval pablo demands guillermo rescind offer really demanding respect go tell juan totally ok go wont tell asking juan recognize control family token system underlying means youre encouraged dig rather give smaller issues guarantee get way something really matters brilliant think vastly underrated edit btw pulled series air writing easy make dramasystem pitches ,  rpg ,  cars\n",
            "\n",
            "\n",
            "extremely unscientific test still interesting wonder resoldered existing caps would perform better ran runs instead couple thing second card edit pretty sure anyone downvoting doesnt know science dont think wrong anything science cannot draw conclusions single test single sample variables controlled thats meant ,  hardware ,  datascience\n",
            "\n",
            "\n",
            "learn home general dont think college good way learn practical technical skills spend lot time learning gen eds getting major major tend focus lots theoretical knowledge id go tutorials want theoretical knowledge pick textbooks ,  gamedev ,  datascience\n",
            "\n",
            "\n",
            "per article heavily rumored also rumored previous ps showcase rumor personally hear also actually confirmed development ff team ff probably come soon article doesnt make sense ,  gamernews ,  hardware\n",
            "\n",
            "\n",
            "cyberpunk future party random capsule hotel customers running police raid roof weapon got dna locked swat shotgun roof see police helicopter waving minigun faces old boomer type character came farm see big city says throw useless shotgun thru choppa blades well think may nat farm guy makes best throw ever swat helicopter stunned picture lives prepared shotgun goes right rotor ammo detonates killing machine gunner helicopter goes uncontrollable spin crashing mere feet characters town says farm guy putting god knows found straw mouth ,  rpg ,  cars\n",
            "\n",
            "\n",
            "ouch worse disremember http jcmit net memoryprice htm http jcmit net memoryprice htm crtl mb ouch edit forgot mention chart linked page graphically showing downward trend ,  computers ,  hardware\n",
            "\n",
            "\n",
            "gaming mice chinese victsing razer deathadder chinese knock mouse installed software set colors buttonmaps saved everything mouse whenever plug mouse computer still saved settings ive reset computer multiple times point doesnt even mouse software anymore buttonmaps still saved hand need internet connectivity razer deathadder buttonmaps work doesnt save anything color info mouse needed make one special tournament drivers work internet goes next mouse probably wont go either company certainly wont go razer annoying set also background app always running edit got deathadder gift honestly really good mouse hassle pain deal razer knows exactly theyre cloud login bs ,  hardware ,  computers\n",
            "\n",
            "\n",
            "clearly person remember problems connectors like usb mini micro know charging cable one data charging like agenda behind hey look usb better problems chrysler going problems mercedes like oil changes flat tires brakes need changing etc mercedes much better ,  hardware ,  cars\n",
            "\n",
            "\n",
            "interested gameplay game structured loop like scum villainy drama sci fi shows game pays homage took place amongst crewmembers ship fleet last fleet traitor mechanics aaaahhhh seriously though game looks cool gav thorpe name dropped also makes excited ,  rpg ,  gamernews\n",
            "\n",
            "\n",
            "hmm realistic proportion wise eyes sits approximately horizontal center line bald adult head looking straight ahead based location ear would say eyes nose mouth needs shift accordingly top head needs trimmed fit stylized features upper eyelid lifted high based corners eye conceal around iris expressionless face retro orbicularis oculi fat roof concealing part superior orbital margin currently seem sitting superior orbital margin brows feel like overextended side extend slightly past corner eye extending much flattens face brows mostly front plane face maybe shorten around character supposed seem little old despite big eyes stylization probably shadow nasolabial fold artist lighting definitely seem wrong feels like light source close bald head looks glowing dunno nostrils lit normally one occluded areas lips look flat maybe sharp transition skin vermilion border lack specular light lastly beware uncanny valley see quite bit detail topology face may look weird parts kept close realism stylizing cheers http artsammich blogspot com uncanny valley html http artsammich blogspot com uncanny valley html ,  gamedev ,  cars\n",
            "\n",
            "\n",
            "ive running channel called mattchu years time ive amassed subscribers channel rapidly growing introduction blue character long story short due school personal issues take break content creating november st along blue character returning brand new bluetv youtube series show character go variety different content individual segments one gamedev segment looking anyone interested trailer indie game featured first episode community growing even yt silence due presence twitch expect video gain views negatives getting content showed simply extra outreach possibility new fans interested comment message twitter mattchuzz im active ,  gamedev ,  rpg\n",
            "\n",
            "\n",
            "back bit wild west especially personal computers lots companies competing designs price points part ran similar hardware basic ibm came along game changer pc lot expansion options forerunner use pcs ibm popular companies decided cash ecosystem make ibm pc compatibles http en wikipedia org wiki ibm pc compatible could accept hardware run software always eventually led standards introduced among manufacturers card one motherboard work another etc said companies used proprietary hardware software also non pc brands survived like commodore atari apple thing apple came narrowly lot history cram one comment leaving lawsuits buyouts breakthroughs drama ibm clone manufacturers microsoft etc ,  computers ,  hardware\n",
            "\n",
            "\n",
            "inertia guess criticism generally see sub hence replies made towards tends based preconceived notions matched reality sure historically great comes put production isnt true today ,  datascience ,  cars\n",
            "\n",
            "\n",
            "bot cant access link product first user tags game adventure rpg strategy mmorpg name guild wars price free play supported platforms mac windows product guild wars online role playing game fast paced action combat rich detailed universe stories awe inspiring landscapes explore two challenging player vs player modesand subscription fees explore living world tyria comes alive thousands stories change based actions players like never know youll discover time play action oriented combat experience guild wars high impact fast paced combat attack move dodge roll away enemy blows team players dominate battlefield story tyria irrevocably shaped past play crucial role future create unique character decide story evolves uncover new revelations questions truths every choice make competitive play everyone competitive play guild wars easy learn offers challenges new players hardcore pvpers alike whether decide jump quick furious matches small groups players organized pvp join hundreds players grand battles world vs world pvp youll find ultimate challenge please note existing guild wars player accounts cannot accessed via steam ,  gamernews ,  rpg\n",
            "\n",
            "\n",
            "bad idea use non authoritative protocol game imo effort probably lot protocols tend hella complicated couldve saved server based architecture authoritative model one peer acts authority ,  gamernews ,  gamedev\n",
            "\n",
            "\n",
            "bad game pile uninspired dogshit literally carried name going many disappointed rants later people didnt listen early reviewers still bought ,  gamernews ,  rpg\n",
            "\n",
            "\n",
            "service center aka mom pop shop told update wait read press release said isnt ready yet said update come tv connected responded referring ota update separate firmware available said whatever youtube video said doesnt matter said read press release never mentioned youtube video kinda bitchy said thanks ill keep searching exactly get update without waiting ota ,  hardware ,  gamernews\n",
            "\n",
            "\n",
            "hi former fg student first id recommend send email questions directly anyone knows itd background graphics required however mentioned youll competing others dont youre expected send work sample want know skill level youre currently compared applicants course thing look goal get ready internship studio end program hard say probably differs every year far know dont publish kind statistics regarding international students youll find couple year difficult estimate many apply average think international students year students id assume application page international students updated reflect upcoming classes highly recommend shoot email ask youre uncertain ,  gamedev ,  datascience\n",
            "\n",
            "\n",
            "gee wiz maybe reality people wages remained less stagnant last twenty years cases running backwards take rate inflation account finally caught yeah things start seem expensive ,  cars ,  hardware\n",
            "\n",
            "\n",
            "ive never seen sub look bad many claims without justification think something bad justify one able get away language bad horrible well smartass feel strongly perhaps justify actual examples dont feel like putting effort please dont post one miss feelings ,  datascience ,  rpg\n",
            "\n",
            "\n",
            "http imgur com gallery ehkjju http imgur com gallery ehkjju youre teen young adult working customer service mall one problem zombie apocalypse oh first time ive put game layout really really happy results made game seeing could make microtransactions working core mechanic thiiiiink alright id appreciate feedback alright either way ,  rpg ,  gamedev\n",
            "\n",
            "\n",
            "thing think people need understand playstation established like nintendo microsoft full ifs bought studios sure certain studios make top notch games lets honest bethesda downward spiral late talented sure actually good job upcoming games yes big boost ms right think general population outside reddit doesnt want invest ifs get solid choice nintendo sony ,  hardware ,  gamernews\n",
            "\n",
            "\n",
            "give details maybe pictures mean cover purpose asking divide colors may consider calling powder coating companies give concise list questions ,  cars ,  rpg\n",
            "\n",
            "\n",
            "triangle makes plane capsule essentially line radius would start seeing algorithm getting closest point line plane see within radius capsule barycentric coordinates within range triangle good luck edit thinking closest point plane line one two points line unless line intersects plane points equal distance plane could check line intersects plane thats start otherwise figure point closest theyre equal capsule parallel test points get nearest point triangle plane intersection point get nearest point line nearest triangle point check distance points capsule radius calculate normal think would work might totally wrong top head ive never done lol also might much better way havent even thought ,  gamedev ,  datascience\n",
            "\n",
            "\n",
            "means stuff work much faster snappier hope choose amd embedded hardware manufactuer cpus low power better android apple currently ,  cars ,  hardware\n",
            "\n",
            "\n"
          ],
          "name": "stdout"
        }
      ]
    },
    {
      "cell_type": "code",
      "metadata": {
        "id": "HSAU6ahMznMo",
        "outputId": "478421b6-8c1e-49f5-b4fe-0c3fb2597271"
      },
      "source": [
        "from sklearn.linear_model import SGDClassifier\n",
        "\n",
        "clf = SGDClassifier(loss='hinge', alpha=1e-4)\n",
        "pred_acc = cross_val_score(clf, vectors_train_idf_chi, y_train, cv = 5)\n",
        "clf.fit(vectors_train_idf_chi, y_train)\n",
        "val = clf.score(vectors_val_idf_chi, y_val)\n",
        "print(pred_acc.mean())\n",
        "print(val)"
      ],
      "execution_count": null,
      "outputs": [
        {
          "output_type": "stream",
          "text": [
            "0.8977454462847465\n",
            "0.903448275862069\n"
          ],
          "name": "stdout"
        }
      ]
    },
    {
      "cell_type": "code",
      "metadata": {
        "id": "AuSPFa0DznM1"
      },
      "source": [
        ""
      ],
      "execution_count": null,
      "outputs": []
    }
  ]
}